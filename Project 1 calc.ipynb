{
 "cells": [
  {
   "cell_type": "code",
   "execution_count": 8,
   "metadata": {},
   "outputs": [
    {
     "name": "stdout",
     "output_type": "stream",
     "text": [
      "Calculator!!!\n",
      "\n",
      "OPTIONS\n",
      "1.Addition\n",
      "2.Subtraction\n",
      "3.Multiplication\n",
      "4.Division\n",
      "5.Modulo\n",
      "6.sqrt\n",
      "\n",
      "enter the option1\n",
      "enter the first number6\n",
      "enter the second number9\n",
      "Addition 15\n"
     ]
    }
   ],
   "source": [
    "def add(a,b):\n",
    "    return a+b\n",
    "def sub(a,b):\n",
    "    return a-b\n",
    "def mul(a,b):\n",
    "    return a*b\n",
    "def div(a,b):\n",
    "    return a/b\n",
    "print(\"Calculator!!!\\n\")\n",
    "print(\"OPTIONS\\n\"\n",
    "        \"1.Addition\\n\"\n",
    "        \"2.Subtraction\\n\"\n",
    "        \"3.Multiplication\\n\"\n",
    "        \"4.Division\\n\"\n",
    "        \"5.Modulo\\n\"\n",
    "        \"6.sqrt\\n\"\n",
    "     )\n",
    "ch=(input(\"enter the option\"))\n",
    "a=int(input(\"enter the first number\"))\n",
    "b=int(input(\"enter the second number\"))\n",
    "if ch==\"1\":\n",
    "    print(\"Addition\",add(a,b))\n",
    "elif ch==\"2\":\n",
    "    print(\"Subtraction\",sub(a,b))\n",
    "elif ch==\"3\":\n",
    "    print(\"Multiplication\",mul(a,b))\n",
    "elif ch==\"4\":\n",
    "    print(\"Division\",div(a,b))\n",
    "elif ch==\"5\":\n",
    "    print(\"Modulo\" )\n",
    "elif ch==\"6\":\n",
    "    print(\"Sqrt\")\n",
    "\n",
    "    \n",
    "\n",
    "    "
   ]
  },
  {
   "cell_type": "code",
   "execution_count": 9,
   "metadata": {},
   "outputs": [
    {
     "name": "stdout",
     "output_type": "stream",
     "text": [
      "('a', 'b', 'c', 'd', 'e')\n"
     ]
    }
   ],
   "source": [
    "mytup=('a','b','c')\n",
    "mytup1=('d','e')\n",
    "mytup+=mytup1\n",
    "print(mytup)\n"
   ]
  },
  {
   "cell_type": "code",
   "execution_count": 4,
   "metadata": {},
   "outputs": [
    {
     "data": {
      "text/plain": [
       "11"
      ]
     },
     "execution_count": 4,
     "metadata": {},
     "output_type": "execute_result"
    }
   ],
   "source": [
    "def add(a,b):\n",
    "    return a+b\n",
    "add(5,6)"
   ]
  },
  {
   "cell_type": "code",
   "execution_count": 14,
   "metadata": {},
   "outputs": [
    {
     "name": "stdout",
     "output_type": "stream",
     "text": [
      "enter first name of personsri\n",
      "enter second name of personaparna\n"
     ]
    }
   ],
   "source": [
    "n1=input(\"enter first name of person\")\n",
    "n2=input(\"enter second name of person\")\n",
    "def myfunc(fname,lname):\n",
    "    print(\"the first name of person is\",myfunc(n1,\" \"))\n",
    "    return myfunc(n1,\" \")\n"
   ]
  },
  {
   "cell_type": "code",
   "execution_count": 7,
   "metadata": {},
   "outputs": [
    {
     "name": "stdout",
     "output_type": "stream",
     "text": [
      "Select operation.\n",
      "1.Add\n",
      "2.Subtract\n",
      "3.Multiply\n",
      "4.Divide\n",
      "Enter choice(1/2/3/4): 1\n",
      "Enter first number: 6\n",
      "Enter second number: 6\n",
      "6.0 + 6.0 = 12.0\n"
     ]
    }
   ],
   "source": [
    "# Program make a simple calculator\n",
    "\n",
    "# This function adds two numbers \n",
    "def add(x, y):\n",
    "   return x + y\n",
    "\n",
    "# This function subtracts two numbers \n",
    "def subtract(x, y):\n",
    "   return x - y\n",
    "\n",
    "# This function multiplies two numbers\n",
    "def multiply(x, y):\n",
    "   return x * y\n",
    "\n",
    "# This function divides two numbers\n",
    "def divide(x, y):\n",
    "   return x / y\n",
    "\n",
    "print(\"Select operation.\")\n",
    "print(\"1.Add\")\n",
    "print(\"2.Subtract\")\n",
    "print(\"3.Multiply\")\n",
    "print(\"4.Divide\")\n",
    "\n",
    "# Take input from the user \n",
    "choice = input(\"Enter choice(1/2/3/4): \")\n",
    "\n",
    "num1 = float(input(\"Enter first number: \"))\n",
    "num2 = float(input(\"Enter second number: \"))\n",
    "\n",
    "if choice == '1':\n",
    "   print(num1,\"+\",num2,\"=\", add(num1,num2))\n",
    "\n",
    "elif choice == '2':\n",
    "   print(num1,\"-\",num2,\"=\", subtract(num1,num2))\n",
    "\n",
    "elif choice == '3':\n",
    "   print(num1,\"*\",num2,\"=\", multiply(num1,num2))\n",
    "\n",
    "elif choice == '4':\n",
    "   print(num1,\"/\",num2,\"=\", divide(num1,num2))\n",
    "else:\n",
    "   print(\"Invalid input\")"
   ]
  },
  {
   "cell_type": "code",
   "execution_count": 18,
   "metadata": {},
   "outputs": [
    {
     "data": {
      "text/plain": [
       "20"
      ]
     },
     "execution_count": 18,
     "metadata": {},
     "output_type": "execute_result"
    }
   ],
   "source": [
    "def myfun(x):\n",
    "    return x+10\n",
    "myfun(10)\n"
   ]
  },
  {
   "cell_type": "code",
   "execution_count": 19,
   "metadata": {},
   "outputs": [
    {
     "name": "stdout",
     "output_type": "stream",
     "text": [
      "4\n"
     ]
    }
   ],
   "source": [
    "fruits=(\"app\",\"ban\",\"cher\")\n",
    "if \"mango\" in fruits:\n",
    "    print(3+4)\n",
    "else:\n",
    "    print(2*2)"
   ]
  },
  {
   "cell_type": "code",
   "execution_count": 21,
   "metadata": {},
   "outputs": [
    {
     "ename": "SyntaxError",
     "evalue": "invalid syntax (<ipython-input-21-98e796e79457>, line 2)",
     "output_type": "error",
     "traceback": [
      "\u001b[1;36m  File \u001b[1;32m\"<ipython-input-21-98e796e79457>\"\u001b[1;36m, line \u001b[1;32m2\u001b[0m\n\u001b[1;33m    print z(2,3,4)\u001b[0m\n\u001b[1;37m          ^\u001b[0m\n\u001b[1;31mSyntaxError\u001b[0m\u001b[1;31m:\u001b[0m invalid syntax\n"
     ]
    }
   ],
   "source": [
    "z=lambda a,b,c:a+b+c\n",
    "print(z(2,3,4)"
   ]
  },
  {
   "cell_type": "code",
   "execution_count": null,
   "metadata": {},
   "outputs": [],
   "source": []
  },
  {
   "cell_type": "code",
   "execution_count": null,
   "metadata": {},
   "outputs": [],
   "source": []
  },
  {
   "cell_type": "code",
   "execution_count": null,
   "metadata": {},
   "outputs": [],
   "source": []
  },
  {
   "cell_type": "code",
   "execution_count": null,
   "metadata": {},
   "outputs": [],
   "source": []
  }
 ],
 "metadata": {
  "kernelspec": {
   "display_name": "Python 3",
   "language": "python",
   "name": "python3"
  },
  "language_info": {
   "codemirror_mode": {
    "name": "ipython",
    "version": 3
   },
   "file_extension": ".py",
   "mimetype": "text/x-python",
   "name": "python",
   "nbconvert_exporter": "python",
   "pygments_lexer": "ipython3",
   "version": "3.7.4"
  }
 },
 "nbformat": 4,
 "nbformat_minor": 2
}
