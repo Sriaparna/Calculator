{
 "cells": [
  {
   "cell_type": "code",
   "execution_count": null,
   "metadata": {},
   "outputs": [
    {
     "name": "stdout",
     "output_type": "stream",
     "text": [
      "Calculator!!!\n",
      "\n",
      "OPTIONS\n",
      "1.Addition\n",
      "2.Subtraction\n",
      "3.Multiplication\n",
      "4.Division\n",
      "5.Modulo\n",
      "6.sqrt\n",
      "\n"
     ]
    }
   ],
   "source": [
    "def add(a,b):\n",
    "    return a+b\n",
    "def sub(a,b):\n",
    "    return a-b\n",
    "def mul(a,b):\n",
    "    return a*b\n",
    "def div(a,b):\n",
    "    return a/b\n",
    "print(\"Calculator!!!\\n\")\n",
    "print(\"OPTIONS\\n\"\n",
    "        \"1.Addition\\n\"\n",
    "        \"2.Subtraction\\n\"\n",
    "        \"3.Multiplication\\n\"\n",
    "        \"4.Division\\n\"\n",
    "        \"5.Modulo\\n\"\n",
    "        \"6.sqrt\\n\"\n",
    "     )\n",
    "ch=(input(\"enter the option\"))\n",
    "a=int(input(\"enter the first number\"))\n",
    "b=int(input(\"enter the second number\"))\n",
    "if ch==\"1\":\n",
    "    print(\"Addition\",add(a,b))\n",
    "elif ch==\"2\":\n",
    "    print(\"Subtraction\",sub(a,b))\n",
    "elif ch==\"3\":\n",
    "    print(\"Multiplication\",mul(a,b))\n",
    "elif ch==\"4\":\n",
    "    print(\"Division\",div(a,b))\n",
    "elif ch==\"5\":\n",
    "    print(\"Modulo\" )\n",
    "elif ch==\"6\":\n",
    "    print(\"Sqrt\")\n"
   ]
  },
  {
   "cell_type": "code",
   "execution_count": null,
   "metadata": {},
   "outputs": [],
   "source": []
  }
 ],
 "metadata": {
  "kernelspec": {
   "display_name": "Python 3",
   "language": "python",
   "name": "python3"
  },
  "language_info": {
   "codemirror_mode": {
    "name": "ipython",
    "version": 3
   },
   "file_extension": ".py",
   "mimetype": "text/x-python",
   "name": "python",
   "nbconvert_exporter": "python",
   "pygments_lexer": "ipython3",
   "version": "3.7.4"
  }
 },
 "nbformat": 4,
 "nbformat_minor": 2
}
